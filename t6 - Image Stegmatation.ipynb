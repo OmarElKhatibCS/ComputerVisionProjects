{
 "cells": [
  {
   "cell_type": "markdown",
   "metadata": {},
   "source": [
    "### Stegmatation and Counters"
   ]
  },
  {
   "cell_type": "code",
   "execution_count": 6,
   "metadata": {
    "collapsed": true
   },
   "outputs": [],
   "source": [
    "import cv2\n",
    "import numpy as np\n",
    "\n",
    "def _drawContour(img):\n",
    "    cv2.imshow('original %s'%img,img)\n",
    "    gray_img = cv2.cvtColor(img,cv2.COLOR_BGR2GRAY)\n",
    "    edged = cv2.Canny(gray_img,30,170)\n",
    "    contours,hierachy = cv2.findContours(edged,cv2.RETR_EXTERNAL, cv2.CHAIN_APPROX_NONE)\n",
    "    cv2.drawContours(img,contours,-1,(0,255,0),3)\n",
    "    cv2.imshow('original with Counters %s'%img,img)\n",
    "\n",
    "img = cv2.imread('./images/table.jpg')\n",
    "img = cv2.resize(img,None,fx=0.2,fy=0.2)\n",
    "_drawContour(img)\n",
    "\n",
    "img2 = cv2.imread('./images/input____.jpg')\n",
    "_drawContour(img2)\n",
    "\n",
    "cv2.waitKey(0)\n",
    "cv2.destroyAllWindows()"
   ]
  },
  {
   "cell_type": "markdown",
   "metadata": {},
   "source": [
    "### Sort By Area"
   ]
  },
  {
   "cell_type": "code",
   "execution_count": 16,
   "metadata": {},
   "outputs": [
    {
     "name": "stdout",
     "output_type": "stream",
     "text": [
      "before sorting : [69076.0, 53820.5, 51702.0, 46929.5, 73980.5, 68367.0]\n",
      "after sorting : [73980.5, 69076.0, 68367.0, 53820.5, 51702.0, 46929.5]\n"
     ]
    }
   ],
   "source": [
    "import cv2\n",
    "import numpy as np\n",
    "\n",
    "img = cv2.imread('./images/shapes.jpg')\n",
    "img = cv2.resize(img,None,fx=0.3,fy=0.3)\n",
    "bg = np.zeros((img.shape[0],img.shape[1],3))\n",
    "gray_img = cv2.cvtColor(img,cv2.COLOR_RGB2GRAY)\n",
    "edged = cv2.Canny(gray_img,30,170)\n",
    "contours,hierachy = cv2.findContours(edged,cv2.RETR_EXTERNAL, cv2.CHAIN_APPROX_NONE)\n",
    "\n",
    "def get_contours_area(contours):\n",
    "    areas = []\n",
    "    for cnt in contours:\n",
    "        area = cv2.contourArea(cnt)\n",
    "        areas.append(area)\n",
    "    return areas\n",
    "\n",
    "print \"before sorting : \" + str(get_contours_area(contours))\n",
    "\n",
    "sorted_contours = sorted(contours , key=cv2.contourArea, reverse=True)\n",
    "print \"after sorting : \" + str(get_contours_area(sorted_contours))\n",
    "\n",
    "for i,cnt in enumerate(sorted_contours):\n",
    "    cv2.drawContours(img , [cnt], -1 , (255,0,0) , 3)\n",
    "    M = cv2.moments(cnt)\n",
    "    cx = int(M['m10']/M['m00'])\n",
    "    cy = int(M['m01']/M['m00'])\n",
    "    cv2.putText(img,str(i+1),(cx-10,cy+10),cv2.FONT_HERSHEY_SIMPLEX,1,(0,0,0),2)\n",
    "    cv2.waitKey(0)\n",
    "    cv2.imshow(\"sorted\",img)\n",
    "\n",
    "cv2.waitKey(0)\n",
    "cv2.destroyAllWindows()"
   ]
  },
  {
   "cell_type": "markdown",
   "metadata": {},
   "source": [
    "### Sort From left to Right"
   ]
  },
  {
   "cell_type": "code",
   "execution_count": 172,
   "metadata": {},
   "outputs": [
    {
     "name": "stdout",
     "output_type": "stream",
     "text": [
      "output_shape_number1.jpg\n",
      "output_shape_number2.jpg\n",
      "output_shape_number3.jpg\n",
      "output_shape_number4.jpg\n",
      "output_shape_number5.jpg\n",
      "output_shape_number6.jpg\n"
     ]
    }
   ],
   "source": [
    "import cv2\n",
    "import numpy as np\n",
    "\n",
    "img = cv2.imread('./images/shapes.jpg')\n",
    "img = cv2.resize(img,None,fx=0.3,fy=0.3)\n",
    "original_img = img.copy()\n",
    "bg = np.zeros((img.shape[0],img.shape[1],3))\n",
    "gray_img = cv2.cvtColor(img,cv2.COLOR_RGB2GRAY)\n",
    "edged = cv2.Canny(gray_img,30,170)\n",
    "contours,hierachy = cv2.findContours(edged,cv2.RETR_EXTERNAL, cv2.CHAIN_APPROX_NONE)\n",
    "\n",
    "def x_cord_contours(contours):\n",
    "    if cv2.contourArea(contours) > 10:\n",
    "        M = cv2.moments(contours)\n",
    "        return int(M['m10']/M['m00'])\n",
    "    \n",
    "def label_contour_center(image,cnt,i):\n",
    "    M = cv2.moments(cnt)\n",
    "    cx = int(M['m10']/M['m00'])\n",
    "    cy = int(M['m01']/M['m00'])\n",
    "    cv2.circle(image,(cx,cy),10,(0,0,0),-1)\n",
    "    return image\n",
    "    \n",
    "for(i,cnt) in enumerate(contours):\n",
    "    labled_img = label_contour_center(img,cnt,i)\n",
    "    \n",
    "#cv2.imshow(\"labled\",labled_img)\n",
    "#cv2.waitKey(0)\n",
    "\n",
    "counters_left_to_right = sorted(contours , key = x_cord_contours , reverse = False)\n",
    "\n",
    "for (i,c) in enumerate(counters_left_to_right):\n",
    "    cv2.drawContours(original_img,[c],-1,(0,0,0),3)\n",
    "    M = cv2.moments(c)\n",
    "    cx = int(M['m10']/M['m00'])\n",
    "    cy = int(M['m01']/M['m00'])\n",
    "    cv2.putText(original_img,str(i+1),(cx-10,cy+10),cv2.FONT_HERSHEY_SIMPLEX,1,(0,0,0),2)\n",
    "    cv2.imshow('texted',original_img)\n",
    "    cv2.waitKey(0)\n",
    "    (x,y,w,h) = cv2.boundingRect(c)\n",
    "    \n",
    "    cropped_contour = original_img[y:y+h , x:x+w]\n",
    "    image_name = \"output_shape_number\"+str(i+1)+\".jpg\"\n",
    "    print image_name\n",
    "    cv2.imwrite(image_name , cropped_contour)\n",
    "\n",
    "cv2.destroyAllWindows()"
   ]
  },
  {
   "cell_type": "markdown",
   "metadata": {},
   "source": [
    "### Approximation Contours"
   ]
  },
  {
   "cell_type": "code",
   "execution_count": 171,
   "metadata": {
    "collapsed": true
   },
   "outputs": [],
   "source": [
    "import cv2\n",
    "import numpy as np\n",
    "\n",
    "img = cv2.imread('./images/home.jpg')\n",
    "cv2.imshow('Original House',img)\n",
    "cv2.waitKey(0)\n",
    "o_img = img.copy()\n",
    "\n",
    "gray = cv2.cvtColor(img,cv2.COLOR_RGB2GRAY)\n",
    "ret , thresh = cv2.threshold(gray , 127,255,cv2.THRESH_BINARY_INV)\n",
    "\n",
    "contours,hierarchy = cv2.findContours(thresh.copy() , cv2.RETR_LIST , cv2.CHAIN_APPROX_NONE)\n",
    "\n",
    "for c in contours:\n",
    "    x,y,w,h = cv2.boundingRect(c)\n",
    "    cv2.rectangle(o_img,(x,y),(x+w,y+h),(0,0,255),2)\n",
    "    cv2.imshow('Bounding Rect House',o_img)\n",
    "cv2.waitKey(0)\n",
    "\n",
    "for c in contours:\n",
    "    accuracy = 0.02 * cv2.arcLength(c,True)\n",
    "    approx = cv2.approxPolyDP(c,accuracy,True)\n",
    "    cv2.drawContours(img,[approx],0,(0,255,0),2)\n",
    "    cv2.imshow('Approx House',img)\n",
    "\n",
    "cv2.waitKey(0)\n",
    "cv2.destroyAllWindows()"
   ]
  },
  {
   "cell_type": "markdown",
   "metadata": {},
   "source": [
    "### Convex Hull"
   ]
  },
  {
   "cell_type": "code",
   "execution_count": 181,
   "metadata": {
    "collapsed": true
   },
   "outputs": [],
   "source": [
    "import cv2\n",
    "import numpy as np\n",
    "\n",
    "img = cv2.imread('./images/hand.jpg')\n",
    "gray_img = cv2.cvtColor(img,cv2.COLOR_RGB2GRAY)\n",
    "\n",
    "ret,thresh = cv2.threshold(gray_img,176,255,0)\n",
    "contours,hierachy = cv2.findContours(thresh.copy(),cv2.RETR_LIST,cv2.CHAIN_APPROX_NONE)\n",
    "\n",
    "n = len(contours)-1\n",
    "contours = sorted(contours,key=cv2.contourArea,reverse=False)[:n]\n",
    "\n",
    "for c in contours:\n",
    "    hull = cv2.convexHull(c)\n",
    "    cv2.drawContours(img,[hull],0,(0,255,0),2)\n",
    "    cv2.imshow('Convex Hull',img)\n",
    "\n",
    "cv2.waitKey(0)\n",
    "cv2.destroyAllWindows()"
   ]
  },
  {
   "cell_type": "markdown",
   "metadata": {},
   "source": [
    "### Matches"
   ]
  },
  {
   "cell_type": "code",
   "execution_count": 182,
   "metadata": {
    "collapsed": true
   },
   "outputs": [],
   "source": [
    "import cv2\n",
    "import numpy as np\n",
    "import pyttsx\n",
    "\n",
    "target = cv2.imread('./images/shapes.jpg')\n",
    "target = cv2.resize(target,None,fx=0.3,fy=0.3)\n",
    "target_gray = cv2.cvtColor(target,cv2.COLOR_BGR2GRAY)\n",
    "template = cv2.imread('./images/template.jpg')\n",
    "template_gray = cv2.cvtColor(target,cv2.COLOR_BGR2GRAY)\n",
    "\n",
    "_,thresh1 = cv2.threshold(template_gray,127,255,0)\n",
    "_,thresh2 = cv2.threshold(target_gray,127,255,0)\n",
    "\n",
    "contours , hierachy = cv2.findContours(thresh1,cv2.RETR_CCOMP,cv2.CHAIN_APPROX_SIMPLE)\n",
    "sorted_contours = sorted(contours,key=cv2.contourArea,reverse=True)\n",
    "template_contour = contours[1]\n",
    "\n",
    "contours , hierachy = cv2.findContours(thresh2,cv2.RETR_CCOMP,cv2.CHAIN_APPROX_SIMPLE)\n",
    "\n",
    "for c in contours:\n",
    "    match = cv2.matchShapes(template_contour,c,1,0.0)\n",
    "    cv2.drawContours(template_gray,[c],-1,(0,255,0),3)        \n",
    "    if match < 0.15:\n",
    "        closet_contour = c\n",
    "    else:\n",
    "        closet_contour = []\n",
    "        \n",
    "engine = pyttsx.init()\n",
    "engine.say('Okay i think the perdect match of the shape is this')\n",
    "cv2.imshow('Voila',target)\n",
    "cv2.drawContours(target,[closet_contour],-1,(0,0,0),15)        \n",
    "cv2.imshow('Template',template)\n",
    "engine.runAndWait()\n",
    "cv2.imshow('Voila',target)\n",
    "\n",
    "\n",
    "cv2.waitKey(0)\n",
    "cv2.destroyAllWindows()"
   ]
  },
  {
   "cell_type": "markdown",
   "metadata": {},
   "source": [
    "### Identify Shapes"
   ]
  },
  {
   "cell_type": "code",
   "execution_count": 71,
   "metadata": {
    "collapsed": true
   },
   "outputs": [],
   "source": [
    "import cv2\n",
    "import numpy\n",
    "import pyttsx\n",
    "\n",
    "def drawIt(img,cnt,shape_name):\n",
    "    cv2.drawContours(img,[cnt],-1,(0,0,0),3)\n",
    "    M = cv2.moments(cnt)\n",
    "    cx = int(M['m10']/M['m00'])\n",
    "    cy = int(M['m01']/M['m00'])\n",
    "    cv2.putText(img,shape_name,(cx-50,cy),cv2.FONT_HERSHEY_SIMPLEX,1,(0,0,0) ,1)\n",
    "    cv2.imshow(\"img\",img)\n",
    "    engine.say(\"this is an \" + shape_name)\n",
    "    engine.runAndWait()\n",
    "\n",
    "img = cv2.imread('./images/shapes.jpg')\n",
    "img = cv2.resize(img,None,fx=0.3,fy=0.3)\n",
    "show_im = cv2.resize(img,None,fx=0.7,fy=0.7)\n",
    "cv2.imshow(\"original Image\",show_im)\n",
    "\n",
    "gray = cv2.cvtColor(img,cv2.COLOR_RGB2GRAY)\n",
    "edged = cv2.Canny(gray,200,255)\n",
    "\n",
    "ret,thresh = cv2.threshold(edged,1,2,0)\n",
    "\n",
    "contours , hierachy = cv2.findContours(thresh.copy() , cv2.RETR_EXTERNAL , cv2.CHAIN_APPROX_NONE)\n",
    "\n",
    "engine = pyttsx.init()\n",
    "\n",
    "for cnt in contours:\n",
    "    approx = cv2.approxPolyDP(cnt,0.01*cv2.arcLength(cnt,True),True)\n",
    "    if len(approx) == 3:\n",
    "        shape_name = \"Triangle\"\n",
    "        drawIt(img,cnt,shape_name)\n",
    "    elif len(approx) == 4:\n",
    "        (x,y,w,h) = cv2.boundingRect(cnt)\n",
    "        if abs(w-h) <= 1:\n",
    "            shape_name = \"square\"\n",
    "        else:\n",
    "            shape_name = \"rectangle\"\n",
    "        drawIt(img,cnt,shape_name)\n",
    "    elif len(approx) == 13:\n",
    "        shape_name = \"ellipse\"\n",
    "        drawIt(img,cnt,shape_name)\n",
    "    elif len(approx) == 16:\n",
    "        shape_name = \"Circle\"\n",
    "        drawIt(img,cnt,shape_name)\n",
    "    elif len(approx) == 5:\n",
    "        shape_name = \"Polygon\"\n",
    "        drawIt(img,cnt,shape_name)\n",
    "    \n",
    "cv2.imshow(\"img\",img)\n",
    "cv2.destroyAllWindows()"
   ]
  },
  {
   "cell_type": "markdown",
   "metadata": {},
   "source": [
    "### Line Detection\n",
    "##### Using HoughLines"
   ]
  },
  {
   "cell_type": "code",
   "execution_count": 241,
   "metadata": {
    "collapsed": true
   },
   "outputs": [],
   "source": [
    "import cv2\n",
    "import numpy as np\n",
    "import pyttsx\n",
    "\n",
    "img = cv2.imread('./images/sudoku.jpg')\n",
    "cv2.imshow('Original img',img)\n",
    "gray_img = cv2.cvtColor(img,cv2.COLOR_RGB2GRAY)\n",
    "edges = cv2.Canny(gray_img, 100,170, apertureSize=3)\n",
    "\n",
    "lines = cv2.HoughLines(edges,1,np.pi/ 180 , 240)\n",
    "\n",
    "for rho,theta in lines[0]:\n",
    "    a = np.cos(theta)\n",
    "    b = np.sin(theta)\n",
    "    x0 = a * rho\n",
    "    y0 = b * rho\n",
    "    x1 = int(x0+1000*(-b))\n",
    "    y1 = int(y0+1000*(a))\n",
    "    x2 = int(x0-1000*(-b))\n",
    "    y2 = int(y0-1000*(a))\n",
    "    cv2.line(img,(x1,y1),(x2,y2),(255,0,0),2)\n",
    "\n",
    "cv2.imshow('Hough Lines',img)\n",
    "engine = pyttsx.init()\n",
    "engine.say(\"i found \"+str(len(lines[0])/2)+\"line\")\n",
    "engine.runAndWait()\n",
    "cv2.destroyAllWindows()"
   ]
  },
  {
   "cell_type": "markdown",
   "metadata": {},
   "source": [
    "##### using Probalistic Hough Lines"
   ]
  },
  {
   "cell_type": "code",
   "execution_count": 3,
   "metadata": {
    "collapsed": true
   },
   "outputs": [],
   "source": [
    "import cv2\n",
    "import numpy as np\n",
    "\n",
    "img = cv2.imread('./images/sudoku.jpg')\n",
    "cv2.imshow('Original img',img)\n",
    "gray_img = cv2.cvtColor(img,cv2.COLOR_RGB2GRAY)\n",
    "edges = cv2.Canny(gray_img, 100,170, apertureSize=3)\n",
    "\n",
    "lines = cv2.HoughLinesP(edges,1,np.pi/ 180 , 10,5,10)\n",
    "\n",
    "for x1,y1,x2,y2 in lines[0]:\n",
    "    cv2.line(img, (x1,y1),(x2,y2),(0,255,0),3)\n",
    "\n",
    "cv2.imshow('Probalistic Hough Lines',img)\n",
    "cv2.waitKey(0)\n",
    "cv2.destroyAllWindows()"
   ]
  },
  {
   "cell_type": "markdown",
   "metadata": {},
   "source": [
    "### Circle Image Detection"
   ]
  },
  {
   "cell_type": "code",
   "execution_count": 7,
   "metadata": {},
   "outputs": [],
   "source": [
    "import cv2\n",
    "import numpy as np\n",
    "\n",
    "img = cv2.imread('./images/bottles_caps.jpg')\n",
    "gray_img = cv2.cvtColor(img,cv2.COLOR_RGB2GRAY)\n",
    "blur = cv2.medianBlur(gray_img, 5)\n",
    "\n",
    "circles = cv2.HoughCircles(blur, cv2.cv.CV_HOUGH_GRADIENT, 1.5, 10)\n",
    "\n",
    "for i in circles[0,:]:\n",
    "    # draw the outer circle\n",
    "    cv2.circle(img,(i[0], i[1]), i[2], (255, 0, 0), 2)\n",
    "    # draw the center of the circle\n",
    "    cv2.circle(img, (i[0], i[1]), 2, (0, 255, 0), 5)\n",
    "\n",
    "cv2.imshow('detected circles', img)\n",
    "cv2.waitKey(0)\n",
    "cv2.destroyAllWindows()"
   ]
  },
  {
   "cell_type": "markdown",
   "metadata": {},
   "source": [
    "### Blobs Dector"
   ]
  },
  {
   "cell_type": "code",
   "execution_count": 25,
   "metadata": {},
   "outputs": [],
   "source": [
    "import cv2\n",
    "import numpy as np\n",
    "\n",
    "img = cv2.imread('./images/blobs2.jpg')\n",
    "gray_img = cv2.cvtColor(img,cv2.COLOR_RGB2GRAY)\n",
    "\n",
    "detector = cv2.SimpleBlobDetector()\n",
    "keypoints = detector.detect(gray_img)\n",
    "\n",
    "blank = np.zeros((1,1))\n",
    "blobs = cv2.drawKeypoints(img,keypoints,blank,(0,255,255),\n",
    "                          cv2.DRAW_MATCHES_FLAGS_DEFAULT)\n",
    "\n",
    "cv2.imshow(\"Blobs\",blobs)\n",
    "cv2.waitKey(0)\n",
    "cv2.destroyAllWindows()"
   ]
  },
  {
   "cell_type": "markdown",
   "metadata": {},
   "source": [
    "### Blobs And Circle identifier -Mini Project- "
   ]
  },
  {
   "cell_type": "code",
   "execution_count": 70,
   "metadata": {},
   "outputs": [],
   "source": [
    "import cv2\n",
    "import numpy as np\n",
    "import pyttsx as px\n",
    "\n",
    "img = cv2.imread('./images/blobsAndCircles.jpg',0)\n",
    "cv2.imshow('original',img)\n",
    "\n",
    "engine = px.init()\n",
    "\n",
    "detector = cv2.SimpleBlobDetector()\n",
    "\n",
    "keypoints = detector.detect(img)\n",
    "\n",
    "blank = np.zeros((1,1))\n",
    "\n",
    "blobs = cv2.drawKeypoints(img,keypoints,blank,(0,0,255),\n",
    "                         cv2.DRAW_MATCHES_FLAGS_DRAW_RICH_KEYPOINTS)\n",
    "height = img.shape[1]\n",
    "number_of_blobs = len(keypoints)\n",
    "text = \"Total Number of Blobs is \"+str(len(keypoints))\n",
    "cv2.putText(blobs,text,(20,height),cv2.FONT_HERSHEY_SIMPLEX,1,(100,0,255),2)\n",
    "cv2.imshow('Blobs using Default Detector',blobs)\n",
    "engine.say(text)\n",
    "engine.runAndWait()\n",
    "\n",
    "params = cv2.SimpleBlobDetector_Params()\n",
    "\n",
    "params.filterByArea = True\n",
    "params.minArea = 100\n",
    "\n",
    "params.filterByCircularity = True\n",
    "params.minCircularity = 0.9\n",
    "\n",
    "params.filterByConvexity = False\n",
    "params.minConvexity = 0.2\n",
    "\n",
    "params.filterByInertia = True\n",
    "params.minInertiaRatio = 0.01\n",
    "\n",
    "detector = cv2.SimpleBlobDetector(params)\n",
    "\n",
    "keypoints = detector.detect(img)\n",
    "\n",
    "blank = np.zeros((1,1))\n",
    "\n",
    "blobs = cv2.drawKeypoints(img,keypoints,blank,(0,0,255),\n",
    "                         cv2.DRAW_MATCHES_FLAGS_DRAW_RICH_KEYPOINTS)\n",
    "height = img.shape[1]\n",
    "number_of_blobs = len(keypoints)\n",
    "text = \"Blobs with circular shape is \"+str(len(keypoints))\n",
    "cv2.putText(blobs,text,(0,height),cv2.FONT_HERSHEY_SIMPLEX,1,(100,0,255),2)\n",
    "cv2.imshow('Blobs with circular shape',blobs)\n",
    "engine.say(text)\n",
    "engine.runAndWait()\n",
    "\n",
    "\n",
    "cv2.waitKey(0)\n",
    "cv2.destroyAllWindows()"
   ]
  }
 ],
 "metadata": {
  "kernelspec": {
   "display_name": "Python 2",
   "language": "python",
   "name": "python2"
  },
  "language_info": {
   "codemirror_mode": {
    "name": "ipython",
    "version": 2
   },
   "file_extension": ".py",
   "mimetype": "text/x-python",
   "name": "python",
   "nbconvert_exporter": "python",
   "pygments_lexer": "ipython2",
   "version": "2.7.14"
  }
 },
 "nbformat": 4,
 "nbformat_minor": 2
}
