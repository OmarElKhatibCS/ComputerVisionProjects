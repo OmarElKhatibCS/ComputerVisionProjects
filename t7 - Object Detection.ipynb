{
 "cells": [
  {
   "cell_type": "markdown",
   "metadata": {},
   "source": [
    "### Finding Waldo"
   ]
  },
  {
   "cell_type": "code",
   "execution_count": 3,
   "metadata": {
    "collapsed": true
   },
   "outputs": [],
   "source": [
    "import cv2\n",
    "import numpy as np\n",
    "import pyttsx\n",
    "\n",
    "engine = pyttsx.init()\n",
    "\n",
    "img = cv2.imread('./images/waldoMiss.jpg')\n",
    "waldo = cv2.imread('./images/waldo.jpg')\n",
    "waldo_face_template = cv2.imread('./images/waldo_face.jpg')\n",
    "\n",
    "gray = cv2.cvtColor(img,cv2.COLOR_BGR2GRAY)\n",
    "gray_t = cv2.cvtColor(waldo_face_template,cv2.COLOR_BGR2GRAY)\n",
    "cv2.imshow('waldo',cv2.resize(waldo,None,fx=0.7,fy=0.7))\n",
    "\n",
    "cv2.imshow('where is waldo ?',img)\n",
    "engine.say(\"Hey I am Waldo , Find Me in this Mess\")\n",
    "engine.runAndWait()\n",
    "\n",
    "result = cv2.matchTemplate(gray,gray_t,cv2.TM_CCOEFF)\n",
    "\n",
    "min_val,max_val,min_loc,max_loc = cv2.minMaxLoc(result)\n",
    "\n",
    "top_left = max_loc\n",
    "bottom_right = (top_left[0] + 50 , top_left[1]+50)\n",
    "cv2.rectangle(img,top_left,bottom_right,(255,0,0),6)\n",
    "\n",
    "cv2.imshow('where is waldo ?',img)\n",
    "\n",
    "\n",
    "cv2.waitKey(0)\n",
    "cv2.destroyAllWindows()"
   ]
  },
  {
   "cell_type": "markdown",
   "metadata": {},
   "source": [
    "### Corner Detection"
   ]
  },
  {
   "cell_type": "code",
   "execution_count": 4,
   "metadata": {
    "collapsed": true
   },
   "outputs": [],
   "source": [
    "import cv2\n",
    "import numpy as np\n",
    "\n",
    "img = cv2.imread('./images/board.jpg')\n",
    "gray = cv2.cvtColor(img,cv2.COLOR_BGR2GRAY)\n",
    "\n",
    "harris_corners = cv2.cornerHarris(gray,3,3,0.05)\n",
    "kernel = np.ones((3,3),np.uint8)\n",
    "harris_corners = cv2.dilate(harris_corners,kernel,iterations = 2)\n",
    "img[harris_corners > 0.025 * harris_corners.max() ] = [255,127,127]\n",
    "\n",
    "cv2.imshow('Harris Corner',img)\n",
    "cv2.waitKey(0)\n",
    "cv2.destroyAllWindows()"
   ]
  },
  {
   "cell_type": "markdown",
   "metadata": {},
   "source": [
    "### Improved Corner Detection"
   ]
  },
  {
   "cell_type": "code",
   "execution_count": null,
   "metadata": {
    "collapsed": true
   },
   "outputs": [],
   "source": [
    "import cv2\n",
    "import numpy as np\n",
    "\n",
    "img = cv2.imread('./images/board.jpg')\n",
    "gray = cv2.cvtColor(img,cv2.COLOR_BGR2GRAY)\n",
    "\n",
    "harris_corners = cv2.goodFeaturesToTrack(gray,100,0.01,15)\n",
    "for corner in harris_corners:\n",
    "    x , y = corner[0]\n",
    "    x = int(x)\n",
    "    y = int(y)\n",
    "    cv2.rectangle(img,(x-10,y-10),(x+10,y+10),(0,255,0),2)\n",
    "    \n",
    "cv2.imshow('Improved Harris Corner',img)\n",
    "cv2.waitKey(0)\n",
    "cv2.destroyAllWindows()"
   ]
  },
  {
   "cell_type": "markdown",
   "metadata": {},
   "source": [
    "# Feature Detection"
   ]
  },
  {
   "cell_type": "markdown",
   "metadata": {},
   "source": [
    "### SIFT"
   ]
  },
  {
   "cell_type": "code",
   "execution_count": 57,
   "metadata": {},
   "outputs": [
    {
     "name": "stdout",
     "output_type": "stream",
     "text": [
      "Number of Keypoints detected :  882\n"
     ]
    }
   ],
   "source": [
    "import cv2\n",
    "import numpy as np\n",
    "\n",
    "img = cv2.imread('./images/board.jpg')\n",
    "gray = cv2.cvtColor(img,cv2.COLOR_BGR2GRAY)\n",
    "\n",
    "sift = cv2.SIFT()\n",
    "\n",
    "keypoints = sift.detect(gray , None)\n",
    "print \"Number of Keypoints detected : \",len(keypoints)\n",
    "\n",
    "img  = cv2.drawKeypoints(img, keypoints , flags = cv2.DRAW_MATCHES_FLAGS_DRAW_RICH_KEYPOINTS)\n",
    "    \n",
    "cv2.imshow('SIFT',img)\n",
    "cv2.waitKey(0)\n",
    "cv2.destroyAllWindows()"
   ]
  },
  {
   "cell_type": "markdown",
   "metadata": {},
   "source": [
    "### SURF"
   ]
  },
  {
   "cell_type": "code",
   "execution_count": 59,
   "metadata": {},
   "outputs": [
    {
     "name": "stdout",
     "output_type": "stream",
     "text": [
      "Number of Keypoints detected :  880\n"
     ]
    }
   ],
   "source": [
    "import cv2\n",
    "import numpy as np\n",
    "\n",
    "img = cv2.imread('./images/board.jpg')\n",
    "gray = cv2.cvtColor(img,cv2.COLOR_BGR2GRAY)\n",
    "\n",
    "surf = cv2.SURF()\n",
    "surf.hessianThreshold = 500\n",
    "\n",
    "keypoints , descriptors = surf.detectAndCompute(gray , None)\n",
    "print \"Number of Keypoints detected : \",len(keypoints)\n",
    "\n",
    "img  = cv2.drawKeypoints(img, keypoints , flags = cv2.DRAW_MATCHES_FLAGS_DRAW_RICH_KEYPOINTS)\n",
    "    \n",
    "cv2.imshow('SURF',img)\n",
    "cv2.waitKey(0)\n",
    "cv2.destroyAllWindows()"
   ]
  },
  {
   "cell_type": "markdown",
   "metadata": {},
   "source": [
    "### FAST"
   ]
  },
  {
   "cell_type": "code",
   "execution_count": null,
   "metadata": {},
   "outputs": [],
   "source": [
    "import cv2\n",
    "import numpy as np\n",
    "\n",
    "img = cv2.imread('./images/board.jpg')\n",
    "gray = cv2.cvtColor(img,cv2.COLOR_BGR2GRAY)\n",
    "\n",
    "fast = cv2.FastFeatureDetector()\n",
    "\n",
    "keypoints = fast.detect(gray , None)\n",
    "print \"Number of Keypoints detected : \",len(keypoints)\n",
    "\n",
    "img  = cv2.drawKeypoints(img, keypoints , flags = cv2.DRAW_MATCHES_FLAGS_DRAW_RICH_KEYPOINTS)\n",
    "    \n",
    "cv2.imshow('FAST',img)\n",
    "cv2.waitKey(0)\n",
    "cv2.destroyAllWindows()"
   ]
  },
  {
   "cell_type": "markdown",
   "metadata": {},
   "source": [
    "### BRIEF"
   ]
  },
  {
   "cell_type": "code",
   "execution_count": 66,
   "metadata": {},
   "outputs": [
    {
     "name": "stdout",
     "output_type": "stream",
     "text": [
      "Number of Keypoints detected :  1658\n"
     ]
    }
   ],
   "source": [
    "import cv2\n",
    "import numpy as np\n",
    "\n",
    "img = cv2.imread('./images/board.jpg')\n",
    "gray = cv2.cvtColor(img,cv2.COLOR_BGR2GRAY)\n",
    "\n",
    "fast = cv2.FastFeatureDetector()\n",
    "\n",
    "brief = cv2.DescriptorExtractor_create(\"BRIEF\")\n",
    "\n",
    "keypoints = fast.detect(gray , None)\n",
    "\n",
    "keypoints,_ = brief.compute(gray , keypoints)\n",
    "print \"Number of Keypoints detected : \",len(keypoints)\n",
    "\n",
    "img  = cv2.drawKeypoints(img, keypoints , flags = cv2.DRAW_MATCHES_FLAGS_DRAW_RICH_KEYPOINTS)\n",
    "    \n",
    "cv2.imshow('FAST',img)\n",
    "cv2.waitKey(0)\n",
    "cv2.destroyAllWindows()"
   ]
  },
  {
   "cell_type": "markdown",
   "metadata": {},
   "source": [
    "### Oriented Fast and Rotated BRIEF (ORB)"
   ]
  },
  {
   "cell_type": "code",
   "execution_count": 67,
   "metadata": {},
   "outputs": [
    {
     "name": "stdout",
     "output_type": "stream",
     "text": [
      "Number of Keypoints detected :  1000\n"
     ]
    }
   ],
   "source": [
    "import cv2\n",
    "import numpy as np\n",
    "\n",
    "img = cv2.imread('./images/board.jpg')\n",
    "gray = cv2.cvtColor(img,cv2.COLOR_BGR2GRAY)\n",
    "\n",
    "orb = cv2.ORB(1000)\n",
    "\n",
    "keypoints = orb.detect(gray , None)\n",
    "\n",
    "keypoints,_ = brief.compute(gray , keypoints)\n",
    "print \"Number of Keypoints detected : \",len(keypoints)\n",
    "\n",
    "img  = cv2.drawKeypoints(img, keypoints , flags = cv2.DRAW_MATCHES_FLAGS_DRAW_RICH_KEYPOINTS)\n",
    "    \n",
    "cv2.imshow('Oriented Fast and Rotated BRIEF',img)\n",
    "cv2.waitKey(0)\n",
    "cv2.destroyAllWindows()"
   ]
  }
 ],
 "metadata": {
  "kernelspec": {
   "display_name": "Python 2",
   "language": "python",
   "name": "python2"
  },
  "language_info": {
   "codemirror_mode": {
    "name": "ipython",
    "version": 2
   },
   "file_extension": ".py",
   "mimetype": "text/x-python",
   "name": "python",
   "nbconvert_exporter": "python",
   "pygments_lexer": "ipython2",
   "version": "2.7.14"
  }
 },
 "nbformat": 4,
 "nbformat_minor": 2
}
